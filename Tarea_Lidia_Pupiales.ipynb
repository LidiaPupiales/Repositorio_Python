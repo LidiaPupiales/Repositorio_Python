{
 "cells": [
  {
   "cell_type": "code",
   "execution_count": 1,
   "id": "5ea88c8b-e3d8-439d-9f9d-4c32812d23ec",
   "metadata": {},
   "outputs": [],
   "source": [
    "import pandas as pd"
   ]
  },
  {
   "cell_type": "code",
   "execution_count": 4,
   "id": "d9129ae7-f7a3-4d06-9314-0853acbbdcf2",
   "metadata": {},
   "outputs": [],
   "source": [
    "nombre = 'Lidia'\n",
    "apellido= 'Pupiales'\n",
    "edad = 31"
   ]
  },
  {
   "cell_type": "code",
   "execution_count": 6,
   "id": "861966f0-466c-4234-b117-49aafc351a48",
   "metadata": {},
   "outputs": [
    {
     "data": {
      "text/plain": [
       "'Mi nombre completo es Lidia Pupiales y tengo 31 años'"
      ]
     },
     "execution_count": 6,
     "metadata": {},
     "output_type": "execute_result"
    }
   ],
   "source": [
    "f'Mi nombre completo es {nombre} {apellido} y tengo {edad} años'"
   ]
  }
 ],
 "metadata": {
  "kernelspec": {
   "display_name": "Python 3 (ipykernel)",
   "language": "python",
   "name": "python3"
  },
  "language_info": {
   "codemirror_mode": {
    "name": "ipython",
    "version": 3
   },
   "file_extension": ".py",
   "mimetype": "text/x-python",
   "name": "python",
   "nbconvert_exporter": "python",
   "pygments_lexer": "ipython3",
   "version": "3.11.5"
  }
 },
 "nbformat": 4,
 "nbformat_minor": 5
}
